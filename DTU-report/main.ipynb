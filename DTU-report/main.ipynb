{
 "cells": [
  {
   "cell_type": "code",
   "execution_count": 1,
   "id": "c4c5e13e",
   "metadata": {},
   "outputs": [],
   "source": [
    "import pdfplumber\n",
    "import pandas as pd\n",
    "\n",
    "filename = \"DTU_vaegt_tbl1.pdf\""
   ]
  },
  {
   "cell_type": "markdown",
   "id": "62830278",
   "metadata": {},
   "source": [
    "### Simple approach\n",
    "\n",
    "Notes: 37 rows in original table\n",
    "* 34 single rows\n",
    "* 3 double rows\n",
    "* i.e., 40 in total"
   ]
  },
  {
   "cell_type": "code",
   "execution_count": null,
   "id": "86a615c5",
   "metadata": {},
   "outputs": [
    {
     "name": "stdout",
     "output_type": "stream",
     "text": [
      "[<Page:1>]\n",
      "|    | 1                                                | 2                           | 3         | 4         | 5   |\n",
      "|---:|:-------------------------------------------------|:----------------------------|:----------|:----------|:----|\n",
      "|  0 | Brød                                             | Vægt pr stk. eller skive, g |           |           |     |\n",
      "|    |                                                  | Lille Mellem Stor Kilde     |           |           |     |\n",
      "|  1 | Bagel                                            |                             | 90        |           | d   |\n",
      "|  2 | Bolle, almindelig/fuldkorn - bager/industribolle | 40                          | 60        | 80        | d   |\n",
      "|  3 | Bolle, almindelig/fuldkorn - hjemmebagt          | 50                          | 70        | 120       | r   |\n",
      "|  4 | Bondebrød, skive                                 |                             | 50        |           | d   |\n",
      "|  5 | Burger/hamburger bolle, almindelig/fuldkorn      |                             | 60        | 90        | d   |\n",
      "|  6 | Chapati                                          |                             | 50        |           | d   |\n",
      "|  7 | Ciabattabolle, almindelig/fuldkorn               |                             | 70        |           | d   |\n",
      "|  8 | Croissant                                        | 25                          | 55        |           | d   |\n",
      "|  9 | Crouton, naturel                                 | 0,4                         |           |           | d   |\n",
      "| 10 | Flute/baguette - langt                           |                             | 150       | 300       | d   |\n",
      "|    |                                                  |                             |           | (46 cm**) |     |\n",
      "| 11 | Flute/baguette - mini/kuvert                     |                             | 50        |           | d   |\n",
      "| 12 | Focacciabolle                                    |                             | 120       |           | d   |\n",
      "| 13 | Hvedebrød, skive - industribrød/                 | 25                          | 30        | 40        | d   |\n",
      "|    | let bagerbrød                                    | (1 cm*)                     | (1,5 cm*) | (2 cm*)   |     |\n",
      "| 14 | Hvedebrød, skive – hjemmebagt                    | 30                          | 45        | 60        | d   |\n",
      "|    |                                                  | (1 cm*)                     | (1,5 cm*) | (2 cm*)   |     |\n",
      "| 15 | Frøsnapper                                       | 35                          | 100       |           | d   |\n",
      "| 16 | Hollandsk krydder                                |                             | 10        |           | d   |\n",
      "| 17 | Hvedeknop (1/1)                                  |                             | 70        |           | b   |\n",
      "| 18 | Hvidløgsbaguette/flute                           |                             | 175       |           | d   |\n",
      "| 19 | Håndværker, almindelig/fuldkorn                  |                             | 60        |           | d   |\n",
      "| 20 | Knækbrød, almindeligt/fuldkorn                   | 5                           | 12        | 26        | d   |\n",
      "| 21 | Knækbrød - bager                                 |                             | 35        |           | d   |\n",
      "| 22 | Knækbrød - rundt, kanel                          |                             | 16        |           | d   |\n",
      "| 23 | Krydderbolle                                     |                             | 60        |           | d   |\n",
      "| 24 | Kuvertbrød/bolle                                 |                             | 30        |           | d   |\n",
      "| 25 | Naan                                             |                             | 120       |           | d   |\n",
      "| 26 | Pitabrød, almindeligt                            | 60                          | 80        | 90        | d   |\n",
      "| 27 | Pitabrød, fuldkorn                               |                             | 80        |           | d   |\n",
      "| 28 | Pizzabolle                                       |                             | 110       |           | d   |\n",
      "| 29 | Pølsebrød - almindeligt/hotdog                   |                             | 30        | 45        | d   |\n",
      "| 30 | Pølsebrød - fransk hotdog                        |                             | 60        |           | d   |\n",
      "| 31 | Rugbrød, skive                                   | 25                          | 45        | 70        | r   |\n",
      "| 32 | Rundstykke, almindeligt/spansk - bager           |                             | 45        |           | d   |\n",
      "| 33 | Rundstykke, almindeligt/spansk - frost           |                             | 50        |           | d   |\n",
      "| 34 | Sandwichbolle/stykke, almindelig/fuldkorn        | 70                          | 110       | 140       | d   |\n",
      "| 35 | Sandwichbrød, almindelig, skive                  |                             | 50        |           | d   |\n"
     ]
    }
   ],
   "source": [
    "def pprint(matrix):\n",
    "    for row in matrix:\n",
    "        for element in row:\n",
    "            # print(element, end=\"\\t\")  # Use \"\\t\" for tab spacing\n",
    "            print(f'\"{element}\"', end=\"\\t\")  # Use \"\\t\" for tab spacing\n",
    "        print()  # Move to the next line after each row\n",
    "\n",
    "\n",
    "with pdfplumber.open(filename) as pdf:\n",
    "    print(pdf.pages)\n",
    "    page = pdf.pages[0]\n",
    "\n",
    "    selected_rects = []\n",
    "\n",
    "    #Select rects\n",
    "    for i, rect in enumerate(page.rects):\n",
    "        if rect['height'] < 1 or rect['width'] < 1:\n",
    "            selected_rects.append(rect)\n",
    "        # if i == 20: break #FOr testing\n",
    "\n",
    "    page_tables = page.extract_tables({\n",
    "        \"vertical_strategy\": \"explicit\",\n",
    "        \"horizontal_strategy\": \"explicit\",\n",
    "        \"explicit_vertical_lines\": selected_rects,\n",
    "        \"explicit_horizontal_lines\": selected_rects,\n",
    "    })\n",
    "\n",
    "    table = page_tables[0]\n",
    "    placeholder_cols = [\"1\",\"2\",\"3\",\"4\",\"5\"]\n",
    "    df = pd.DataFrame(table, columns= placeholder_cols)\n",
    "    print(df.to_markdown())"
   ]
  },
  {
   "cell_type": "code",
   "execution_count": null,
   "id": "d6e44973",
   "metadata": {},
   "outputs": [
    {
     "name": "stdout",
     "output_type": "stream",
     "text": [
      "[<Page:1>]\n"
     ]
    }
   ],
   "source": [
    "#Drawing \n",
    "cells = []\n",
    "\n",
    "with pdfplumber.open(filename) as pdf:\n",
    "    print(pdf.pages)\n",
    "    page = pdf.pages[0]\n",
    "    element_type = page.edges\n",
    "    #TODO: \n",
    "    im = page.to_image(resolution = 400)\n",
    "    for i in range(0,len(element_type)):\n",
    "    # for i in range(0,20):\n",
    "    #Selected rects\n",
    "        rect = element_type[i]\n",
    "        # if rect['height'] < 1 or rect['width'] < 1: continue #1 Ignore small rectangles\n",
    "        cells.append(rect)\n",
    "    im = im.draw_rects(cells)\n",
    "    im.show()"
   ]
  }
 ],
 "metadata": {
  "kernelspec": {
   "display_name": ".venv",
   "language": "python",
   "name": "python3"
  },
  "language_info": {
   "codemirror_mode": {
    "name": "ipython",
    "version": 3
   },
   "file_extension": ".py",
   "mimetype": "text/x-python",
   "name": "python",
   "nbconvert_exporter": "python",
   "pygments_lexer": "ipython3",
   "version": "3.13.0"
  }
 },
 "nbformat": 4,
 "nbformat_minor": 5
}
