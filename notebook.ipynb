{
 "cells": [
  {
   "cell_type": "code",
   "execution_count": 1,
   "id": "d45aad5c",
   "metadata": {},
   "outputs": [
    {
     "name": "stderr",
     "output_type": "stream",
     "text": [
      "/Users/asbjorn/Documents/Programming/Python/Lessons/PDFextraction/main.py:198: SettingWithCopyWarning: \n",
      "A value is trying to be set on a copy of a slice from a DataFrame.\n",
      "Try using .loc[row_indexer,col_indexer] = value instead\n",
      "\n",
      "See the caveats in the documentation: https://pandas.pydata.org/pandas-docs/stable/user_guide/indexing.html#returning-a-view-versus-a-copy\n",
      "  df['Enhed'] = df['Enhed'].apply(condense_unit)\n"
     ]
    }
   ],
   "source": [
    "import pandas as pd\n",
    "import main as ms\n",
    "\n",
    "filename = \"maal_vaegt_portionsstoerrelser_marts_13_cropped.pdf\"\n",
    "data : pd.DataFrame = ms.create_conversion_factor_table(filename)\n",
    "data = ms.clean_data(data)\n",
    "data = ms.select_data(data)\n",
    "ms.export_data(data)"
   ]
  }
 ],
 "metadata": {
  "kernelspec": {
   "display_name": ".venv",
   "language": "python",
   "name": "python3"
  },
  "language_info": {
   "codemirror_mode": {
    "name": "ipython",
    "version": 3
   },
   "file_extension": ".py",
   "mimetype": "text/x-python",
   "name": "python",
   "nbconvert_exporter": "python",
   "pygments_lexer": "ipython3",
   "version": "3.13.0"
  }
 },
 "nbformat": 4,
 "nbformat_minor": 5
}
