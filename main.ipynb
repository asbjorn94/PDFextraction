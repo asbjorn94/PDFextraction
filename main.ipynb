{
 "cells": [
  {
   "cell_type": "code",
   "execution_count": 65,
   "id": "be49851a",
   "metadata": {},
   "outputs": [],
   "source": [
    "import pdfplumber\n",
    "import pandas as pd\n",
    "\n",
    "filename = \"mvfodevarer testpage.pdf\""
   ]
  },
  {
   "cell_type": "markdown",
   "id": "32835ff6",
   "metadata": {},
   "source": [
    "### Clean up rectangles\n",
    "1. Ignore rects with height or width < 1\n",
    "2. Ignore nested rects"
   ]
  },
  {
   "cell_type": "code",
   "execution_count": 66,
   "id": "3f926d8b",
   "metadata": {},
   "outputs": [
    {
     "name": "stdout",
     "output_type": "stream",
     "text": [
      "[<Page:1>]\n"
     ]
    }
   ],
   "source": [
    "selected_rects = []\n",
    "\n",
    "def extract_coordinates(rect):\n",
    "    return (rect['x0'], rect['x1'],rect['y0'],rect['y1'])\n",
    "\n",
    "def convert_float_to_int(t):\n",
    "    return tuple(int(x) for x in t)    \n",
    "\n",
    "def is_nested(rect, other_rect):\n",
    "    # print(f\"other_rect['x0']: {other_rect['x0']}\")\n",
    "    # print(f\"rect['x0']: {rect['x0']}\")\n",
    "    # print(f\"other_rect['x1']: {other_rect['x1']}\")\n",
    "    # print(f\"rect['x1']: {rect['x1']}\")\n",
    "    # print(f\"other_rect['y0']: {other_rect['y0']}\")\n",
    "    # print(f\"rect['y0']: {rect['y0']}\")\n",
    "    # print(f\"other_rect['y1']: {other_rect['y1']}\")\n",
    "    # print(f\"rect['y1']: {rect['y1']}\")\n",
    "    \n",
    "    rect_coords = extract_coordinates(rect)\n",
    "    other_rect_coords = extract_coordinates(other_rect)\n",
    "    rect_coords = convert_float_to_int(rect_coords) #Convert floating point to integers to avoid issues caused by rounding errors\n",
    "    other_rect_coords = convert_float_to_int(other_rect_coords) #Convert floating point to integers to avoid issues caused by rounding errors\n",
    "    (x0,x1,y0,y1) = rect_coords\n",
    "    (x0_o,x1_o,y0_o,y1_o) = other_rect_coords\n",
    "\n",
    "    return x0_o <= x0 and x1_o >= x1 and y0_o <= y0 and y1_o >= y1\n",
    "\n",
    "with pdfplumber.open(filename) as pdf:\n",
    "    print(pdf.pages)\n",
    "    page = pdf.pages[0]\n",
    "\n",
    "    initial_j = 0\n",
    "\n",
    "    for i in range(0,len(page.rects)):\n",
    "        rect = page.rects[i]\n",
    "        if rect['height'] < 1 or rect['width'] < 1: continue #1 Ignore small rectangles\n",
    "\n",
    "        #Look for rectangles that might encapsulate current rectangle on page\n",
    "        for j in range(initial_j,len(page.rects)):\n",
    "            #print(f\"(i,j): ({i},{j})\")\n",
    "            other_rect = page.rects[j]\n",
    "            if j == i: #Assumption: rectangles with index > i will never encapsulate rectangle i.\n",
    "                #print(f\"added rect {i} to selected rects\")\n",
    "                selected_rects.append(rect)\n",
    "                break\n",
    "            elif is_nested(rect, other_rect):\n",
    "                initial_j = j #Displace the starting point to search for rectangles that nest rectangle i.\n",
    "                break"
   ]
  },
  {
   "cell_type": "markdown",
   "id": "67904a4c",
   "metadata": {},
   "source": [
    "### Drawing"
   ]
  },
  {
   "cell_type": "code",
   "execution_count": 67,
   "id": "9b7c632d",
   "metadata": {},
   "outputs": [],
   "source": [
    "im = page.to_image(resolution = 400)\n",
    "im = im.draw_rects(selected_rects)\n",
    "im.show()"
   ]
  },
  {
   "cell_type": "markdown",
   "id": "d6d81f17",
   "metadata": {},
   "source": [
    "### Extract data based on the selected rectangles (single page only)"
   ]
  },
  {
   "cell_type": "code",
   "execution_count": 68,
   "id": "b7e800f6",
   "metadata": {},
   "outputs": [
    {
     "name": "stdout",
     "output_type": "stream",
     "text": [
      "[<Page:1>]\n",
      "|    | Madvare                      | Lille   |   Mellem | Stor   |\n",
      "|---:|:-----------------------------|:--------|---------:|:-------|\n",
      "|  0 | Tacoskal                     |         |       10 |        |\n",
      "|  1 | Tartelet                     |         |       10 | 20     |\n",
      "|  2 | Toastbrød, almindelig, skive |         |       30 |        |\n",
      "|  3 | Toastbrød, fuldkorns,skive   |         |       35 |        |\n",
      "|  4 | Tortilla                     | 25      |       40 | 60     |\n",
      "|  5 | Tærtedej, rå (ubagt)         |         |      250 |        |\n"
     ]
    }
   ],
   "source": [
    "def replace_newlines(cell):\n",
    "    if isinstance(cell, str):\n",
    "        cell = cell.replace(\"\\n\", \" \")\n",
    "        cell = cell.replace(\"-\\n\", \" \")\n",
    "    return cell\n",
    "\n",
    "with pdfplumber.open(filename) as pdf:\n",
    "    print(pdf.pages)\n",
    "    page = pdf.pages[0]\n",
    "\n",
    "    page_tables = page.extract_tables({\n",
    "        \"vertical_strategy\": \"explicit\",\n",
    "        \"horizontal_strategy\": \"explicit\",\n",
    "        \"explicit_vertical_lines\": selected_rects,\n",
    "        \"explicit_horizontal_lines\": selected_rects,\n",
    "    })\n",
    "\n",
    "page_tables = page_tables[0] #Removing outermost nesting level\n",
    "page_tables = page_tables[1:] #Removing first item since it is irrelevant\n",
    "page_tables = [[replace_newlines(cell) for cell in row] for row in page_tables] #Replace newline characters with whitespace\n",
    "headers = page_tables[0] #Extracting headers\n",
    "page_tables = page_tables[1:] #Removing headers from data\n",
    "df = pd.DataFrame(page_tables, columns=headers)\n",
    "# df = df.applymap(replace_newlines) \n",
    "print(df.to_markdown())\n"
   ]
  },
  {
   "cell_type": "markdown",
   "id": "14a8da16",
   "metadata": {},
   "source": [
    "### Scale approach to all pages of PDF"
   ]
  },
  {
   "cell_type": "code",
   "execution_count": 72,
   "id": "2cfb4b9d",
   "metadata": {},
   "outputs": [
    {
     "name": "stdout",
     "output_type": "stream",
     "text": [
      "|    | Tacoskal                     |    |   10 |    |\n",
      "|---:|:-----------------------------|:---|-----:|:---|\n",
      "|  0 | Tartelet                     |    |   10 | 20 |\n",
      "|  1 | Toastbrød, almindelig, skive |    |   30 |    |\n",
      "|  2 | Toastbrød, fuldkorns,skive   |    |   35 |    |\n",
      "|  3 | Tortilla                     | 25 |   40 | 60 |\n",
      "|  4 | Tærtedej, rå (ubagt)         |    |  250 |    |\n",
      "|    | Tacoskal                     |    |   10 |    |\n",
      "|---:|:-----------------------------|:---|-----:|:---|\n",
      "|  0 | Tartelet                     |    |   10 | 20 |\n",
      "|  1 | Toastbrød, almindelig, skive |    |   30 |    |\n",
      "|  2 | Toastbrød, fuldkorns,skive   |    |   35 |    |\n",
      "|  3 | Tortilla                     | 25 |   40 | 60 |\n",
      "|  4 | Tærtedej, rå (ubagt)         |    |  250 |    |\n",
      "|    | Tacoskal                     |    |   10 |    |\n",
      "|---:|:-----------------------------|:---|-----:|:---|\n",
      "|  0 | Tartelet                     |    |   10 | 20 |\n",
      "|  1 | Toastbrød, almindelig, skive |    |   30 |    |\n",
      "|  2 | Toastbrød, fuldkorns,skive   |    |   35 |    |\n",
      "|  3 | Tortilla                     | 25 |   40 | 60 |\n",
      "|  4 | Tærtedej, rå (ubagt)         |    |  250 |    |\n"
     ]
    }
   ],
   "source": [
    "def extract_coordinates(rect):\n",
    "    return (rect['x0'], rect['x1'],rect['y0'],rect['y1'])\n",
    "\n",
    "def convert_float_to_int(t):\n",
    "    return tuple(int(x) for x in t)    \n",
    "\n",
    "def is_nested(rect, other_rect):    \n",
    "    rect_coords = extract_coordinates(rect)\n",
    "    other_rect_coords = extract_coordinates(other_rect)\n",
    "    rect_coords = convert_float_to_int(rect_coords) #Convert floating point to integers to avoid issues caused by rounding errors\n",
    "    other_rect_coords = convert_float_to_int(other_rect_coords) #Convert floating point to integers to avoid issues caused by rounding errors\n",
    "    (x0,x1,y0,y1) = rect_coords\n",
    "    (x0_o,x1_o,y0_o,y1_o) = other_rect_coords\n",
    "\n",
    "    return x0_o <= x0 and x1_o >= x1 and y0_o <= y0 and y1_o >= y1\n",
    "\n",
    "def find_cells_on_page(page):\n",
    "    selected_rects = []\n",
    "\n",
    "    initial_j = 0\n",
    "\n",
    "    for i in range(0,len(page.rects)):\n",
    "        rect = page.rects[i]\n",
    "        if rect['height'] < 1 or rect['width'] < 1: continue #1 Ignore small rectangles\n",
    "\n",
    "        #Look for rectangles that might encapsulate current rectangle on page\n",
    "        for j in range(initial_j,len(page.rects)):\n",
    "            #print(f\"(i,j): ({i},{j})\")\n",
    "            other_rect = page.rects[j]\n",
    "            if j == i: #Assumption: rectangles with index > i will never encapsulate rectangle i.\n",
    "                #print(f\"added rect {i} to selected rects\")\n",
    "                selected_rects.append(rect)\n",
    "                break\n",
    "            elif is_nested(rect, other_rect):\n",
    "                initial_j = j #Displace the starting point to search for rectangles that nest rectangle i.\n",
    "                break\n",
    "    \n",
    "    return selected_rects\n",
    "\n",
    "def curate_table(table):\n",
    "    #page_tables = page_tables[0] #Removing outermost nesting level\n",
    "    table = table[1:] #Removing first item since it is irrelevant\n",
    "    table = [[replace_newlines(cell) for cell in row] for row in page_tables] #Replace newline characters with whitespace\n",
    "    headers = table[0] #Extracting headers\n",
    "    table = table[1:] #Removing headers from data\n",
    "    return pd.DataFrame(table, columns=headers)\n",
    "\n",
    "def extract_pdf_tables(filename : str) -> dict:\n",
    "    #tables = []\n",
    "\n",
    "    with pdfplumber.open(filename) as pdf:\n",
    "        # Iterate through each page\n",
    "        for page in pdf.pages:\n",
    "\n",
    "            #Find cells on page\n",
    "            cells_found = find_cells_on_page(page) \n",
    "            \n",
    "            # Extract tables from the page\n",
    "            page_tables = page.extract_tables({\n",
    "                \"vertical_strategy\": \"explicit\",\n",
    "                \"horizontal_strategy\": \"explicit\",\n",
    "                \"explicit_vertical_lines\": cells_found,\n",
    "                \"explicit_horizontal_lines\": cells_found,\n",
    "            })\n",
    "    \n",
    "            if page_tables:\n",
    "                for table in page_tables:\n",
    "                    if table:\n",
    "                        curated_table = curate_table(table)\n",
    "                        print(curated_table.to_markdown())\n",
    "\n",
    "extract_pdf_tables(filename)"
   ]
  },
  {
   "cell_type": "code",
   "execution_count": null,
   "id": "083add2c",
   "metadata": {},
   "outputs": [
    {
     "name": "stdout",
     "output_type": "stream",
     "text": [
      "[<Page:1>]\n"
     ]
    }
   ],
   "source": [
    "#Drawing rects\n",
    "cells_found = []\n",
    "\n",
    "with pdfplumber.open(\"../mvfodevarer_side12.pdf\") as pdf:\n",
    "    print(pdf.pages)\n",
    "    page = pdf.pages[0]\n",
    "    #TODO: \n",
    "    # 1. Ignore rects with height = 0? (or under certain threshold)\n",
    "    # 2. Ignore nested rects\n",
    "    im = page.to_image(resolution = 400)\n",
    "\n",
    "    # for i in range(0,len(page.rects)):\n",
    "    for i in range(0,20):\n",
    "    #Selected rects\n",
    "        rect = page.rects[i]\n",
    "        # if rect['height'] < 1 or rect['width'] < 1: continue #1 Ignore small rectangles\n",
    "        cells_found.append(rect)\n",
    "        # print(f\"Rect index: {i}\")\n",
    "        # print(f\"Rect height: {rect['height']}\")\n",
    "        # print(f\"Rect width: {rect['width']}\")\n",
    "    im = im.draw_rects(cells_found)\n",
    "    im.show()"
   ]
  },
  {
   "cell_type": "code",
   "execution_count": 25,
   "id": "18151f56",
   "metadata": {},
   "outputs": [
    {
     "ename": "TypeError",
     "evalue": "int() argument must be a string, a bytes-like object or a real number, not 'tuple'",
     "output_type": "error",
     "traceback": [
      "\u001b[31m---------------------------------------------------------------------------\u001b[39m",
      "\u001b[31mTypeError\u001b[39m                                 Traceback (most recent call last)",
      "\u001b[36mCell\u001b[39m\u001b[36m \u001b[39m\u001b[32mIn[25]\u001b[39m\u001b[32m, line 1\u001b[39m\n\u001b[32m----> \u001b[39m\u001b[32m1\u001b[39m \u001b[38;5;28;43mint\u001b[39;49m\u001b[43m(\u001b[49m\u001b[43m(\u001b[49m\u001b[32;43m24.9\u001b[39;49m\u001b[43m,\u001b[49m\u001b[32;43m23.6\u001b[39;49m\u001b[43m,\u001b[49m\u001b[32;43m29.3\u001b[39;49m\u001b[43m,\u001b[49m\u001b[32;43m25.5\u001b[39;49m\u001b[43m)\u001b[49m\u001b[43m)\u001b[49m\n",
      "\u001b[31mTypeError\u001b[39m: int() argument must be a string, a bytes-like object or a real number, not 'tuple'"
     ]
    }
   ],
   "source": [
    "int((24.9,23.6,29.3,25.5))"
   ]
  },
  {
   "cell_type": "markdown",
   "id": "17a21c03",
   "metadata": {},
   "source": [
    "2 Remove nested rects"
   ]
  }
 ],
 "metadata": {
  "kernelspec": {
   "display_name": ".venv",
   "language": "python",
   "name": "python3"
  },
  "language_info": {
   "codemirror_mode": {
    "name": "ipython",
    "version": 3
   },
   "file_extension": ".py",
   "mimetype": "text/x-python",
   "name": "python",
   "nbconvert_exporter": "python",
   "pygments_lexer": "ipython3",
   "version": "3.13.0"
  }
 },
 "nbformat": 4,
 "nbformat_minor": 5
}
