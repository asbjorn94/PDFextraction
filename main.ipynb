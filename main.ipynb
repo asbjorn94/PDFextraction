{
 "cells": [
  {
   "cell_type": "markdown",
   "id": "32835ff6",
   "metadata": {},
   "source": [
    "1 Remove small rects"
   ]
  },
  {
   "cell_type": "code",
   "execution_count": 1,
   "id": "3f926d8b",
   "metadata": {},
   "outputs": [
    {
     "name": "stdout",
     "output_type": "stream",
     "text": [
      "[<Page:1>]\n",
      "(i,j): (0,0)\n",
      "added to selected rects\n",
      "Added rect with index 0\n",
      "(i,j): (1,0)\n",
      "Added rect with index 1\n",
      "(i,j): (9,0)\n",
      "(i,j): (9,1)\n",
      "(i,j): (9,2)\n",
      "(i,j): (9,3)\n",
      "(i,j): (9,4)\n",
      "(i,j): (9,5)\n",
      "(i,j): (9,6)\n",
      "(i,j): (9,7)\n",
      "(i,j): (9,8)\n",
      "(i,j): (9,9)\n",
      "added to selected rects\n",
      "Added rect with index 9\n",
      "(i,j): (10,0)\n",
      "(i,j): (10,1)\n",
      "(i,j): (10,2)\n",
      "(i,j): (10,3)\n",
      "(i,j): (10,4)\n",
      "(i,j): (10,5)\n",
      "(i,j): (10,6)\n",
      "(i,j): (10,7)\n",
      "(i,j): (10,8)\n",
      "(i,j): (10,9)\n",
      "Added rect with index 10\n"
     ]
    }
   ],
   "source": [
    "import pdfplumber\n",
    "import pandas as pd\n",
    "\n",
    "selected_rects = []\n",
    "\n",
    "def is_nested(rect, other_rect):\n",
    "    #is_equal = other_rect['x0'] == rect['x0'] and other_rect['x1'] == rect['x1'] and other_rect['y0'] == rect['y0'] and other_rect['y1'] == rect['y1']\n",
    "    contains = other_rect['x0'] <= rect['x0'] and other_rect['x1'] >= rect['x1'] and other_rect['y0'] <= rect['y0'] and other_rect['y1'] >= rect['y1']\n",
    "    \n",
    "    # print(f\"Value of contains: {contains}\")\n",
    "    # print(f\"other_rect['x0']: {other_rect['x0']}\")\n",
    "    # print(f\"rect['x0']: {rect['x0']}\")\n",
    "    # print(f\"other_rect['x1']: {other_rect['x1']}\")\n",
    "    # print(f\"rect['x1']: {rect['x1']}\")\n",
    "    # print(f\"other_rect['y0']: {other_rect['y0']}\")\n",
    "    # print(f\"rect['y0']: {rect['y0']}\")\n",
    "    # print(f\"other_rect['y1']: {other_rect['y1']}\")\n",
    "    # print(f\"rect['y1']: {rect['y1']}\")\n",
    "    #return (not is_equal) and contains \n",
    "    return contains \n",
    "        # break #If other_rect contains rect, then rect is a nested rect and should be ignored\n",
    "\n",
    "with pdfplumber.open(\"mvfodevarer_side12.pdf\") as pdf:\n",
    "    print(pdf.pages)\n",
    "    page = pdf.pages[0]\n",
    "    #TODO: \n",
    "    # 1. Ignore rects with height = 0? (or under certain threshold)\n",
    "    # 2. Ignore nested rects\n",
    "    im = page.to_image(resolution = 400)\n",
    "\n",
    "    # for i in range(0,len(page.rects)):\n",
    "    for i in range(0,11):\n",
    "    #Selected rects\n",
    "        rect = page.rects[i]\n",
    "        if rect['height'] < 1 or rect['width'] < 1: continue #1 Ignore small rectangles\n",
    "\n",
    "        to_be_ignored = False\n",
    "\n",
    "        for j in range(0,len(page.rects)):\n",
    "            print(f\"(i,j): ({i},{j})\")\n",
    "        # for j in range(0,10):\n",
    "            other_rect = page.rects[j]\n",
    "            if i == j:\n",
    "                break\n",
    "            elif is_nested(rect, other_rect):\n",
    "                to_be_ignored = True\n",
    "                break\n",
    "            # elif j == len(page.rects)-1:\n",
    "            #     selected_rects.append(rect)\n",
    "            else:\n",
    "                continue\n",
    "        if not to_be_ignored: \n",
    "            print(\"added to selected rects\")\n",
    "            selected_rects.append(rect)\n",
    "        \n",
    "        print(f\"Added rect with index {i}\")\n",
    "        # print(f\"Rect index: {i}\")\n",
    "        # print(f\"Rect height: {rect['height']}\")\n",
    "        # print(f\"Rect width: {rect['width']}\")\n",
    "    im = im.draw_rects(selected_rects)\n",
    "    im.show()"
   ]
  },
  {
   "cell_type": "code",
   "execution_count": 62,
   "id": "083add2c",
   "metadata": {},
   "outputs": [
    {
     "name": "stdout",
     "output_type": "stream",
     "text": [
      "[<Page:1>]\n"
     ]
    }
   ],
   "source": [
    "#Drawing rects\n",
    "selected_rects = []\n",
    "\n",
    "with pdfplumber.open(\"../mvfodevarer_side12.pdf\") as pdf:\n",
    "    print(pdf.pages)\n",
    "    page = pdf.pages[0]\n",
    "    #TODO: \n",
    "    # 1. Ignore rects with height = 0? (or under certain threshold)\n",
    "    # 2. Ignore nested rects\n",
    "    im = page.to_image(resolution = 400)\n",
    "\n",
    "    # for i in range(0,len(page.rects)):\n",
    "    for i in range(0,20):\n",
    "    #Selected rects\n",
    "        rect = page.rects[i]\n",
    "        # if rect['height'] < 1 or rect['width'] < 1: continue #1 Ignore small rectangles\n",
    "        selected_rects.append(rect)\n",
    "        # print(f\"Rect index: {i}\")\n",
    "        # print(f\"Rect height: {rect['height']}\")\n",
    "        # print(f\"Rect width: {rect['width']}\")\n",
    "    im = im.draw_rects(selected_rects)\n",
    "    im.show()"
   ]
  },
  {
   "cell_type": "markdown",
   "id": "17a21c03",
   "metadata": {},
   "source": [
    "2 Remove nested rects"
   ]
  }
 ],
 "metadata": {
  "kernelspec": {
   "display_name": ".venv",
   "language": "python",
   "name": "python3"
  },
  "language_info": {
   "codemirror_mode": {
    "name": "ipython",
    "version": 3
   },
   "file_extension": ".py",
   "mimetype": "text/x-python",
   "name": "python",
   "nbconvert_exporter": "python",
   "pygments_lexer": "ipython3",
   "version": "3.13.0"
  }
 },
 "nbformat": 4,
 "nbformat_minor": 5
}
