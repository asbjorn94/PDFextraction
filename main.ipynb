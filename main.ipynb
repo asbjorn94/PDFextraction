{
 "cells": [
  {
   "cell_type": "markdown",
   "id": "32835ff6",
   "metadata": {},
   "source": [
    "1 Remove small rects"
   ]
  },
  {
   "cell_type": "code",
   "execution_count": 90,
   "id": "3f926d8b",
   "metadata": {},
   "outputs": [
    {
     "name": "stdout",
     "output_type": "stream",
     "text": [
      "[<Page:1>]\n",
      "(i,j): (0,0)\n",
      "added to selected rects\n",
      "Added rect with index 0\n",
      "(i,j): (1,0)\n",
      "Added rect with index 1\n",
      "(i,j): (9,0)\n",
      "(i,j): (9,1)\n",
      "(i,j): (9,2)\n",
      "(i,j): (9,3)\n",
      "(i,j): (9,4)\n",
      "(i,j): (9,5)\n",
      "(i,j): (9,6)\n",
      "(i,j): (9,7)\n",
      "(i,j): (9,8)\n",
      "(i,j): (9,9)\n",
      "added to selected rects\n",
      "Added rect with index 9\n",
      "(i,j): (10,0)\n",
      "(i,j): (10,1)\n",
      "(i,j): (10,2)\n",
      "(i,j): (10,3)\n",
      "(i,j): (10,4)\n",
      "(i,j): (10,5)\n",
      "(i,j): (10,6)\n",
      "(i,j): (10,7)\n",
      "(i,j): (10,8)\n",
      "(i,j): (10,9)\n",
      "Added rect with index 10\n"
     ]
    }
   ],
   "source": [
    "import pdfplumber\n",
    "import pandas as pd\n",
    "\n",
    "selected_rects = []\n",
    "\n",
    "def is_nested(rect, other_rect):\n",
    "    #is_equal = other_rect['x0'] == rect['x0'] and other_rect['x1'] == rect['x1'] and other_rect['y0'] == rect['y0'] and other_rect['y1'] == rect['y1']\n",
    "    contains = other_rect['x0'] <= rect['x0'] and other_rect['x1'] >= rect['x1'] and other_rect['y0'] <= rect['y0'] and other_rect['y1'] >= rect['y1']\n",
    "    \n",
    "    # print(f\"Value of contains: {contains}\")\n",
    "    # print(f\"other_rect['x0']: {other_rect['x0']}\")\n",
    "    # print(f\"rect['x0']: {rect['x0']}\")\n",
    "    # print(f\"other_rect['x1']: {other_rect['x1']}\")\n",
    "    # print(f\"rect['x1']: {rect['x1']}\")\n",
    "    # print(f\"other_rect['y0']: {other_rect['y0']}\")\n",
    "    # print(f\"rect['y0']: {rect['y0']}\")\n",
    "    # print(f\"other_rect['y1']: {other_rect['y1']}\")\n",
    "    # print(f\"rect['y1']: {rect['y1']}\")\n",
    "    #return (not is_equal) and contains \n",
    "    return contains \n",
    "        # break #If other_rect contains rect, then rect is a nested rect and should be ignored\n",
    "\n",
    "with pdfplumber.open(\"../mvfodevarer_side12.pdf\") as pdf:\n",
    "    print(pdf.pages)\n",
    "    page = pdf.pages[0]\n",
    "    #TODO: \n",
    "    # 1. Ignore rects with height = 0? (or under certain threshold)\n",
    "    # 2. Ignore nested rects\n",
    "    im = page.to_image(resolution = 400)\n",
    "\n",
    "    # for i in range(0,len(page.rects)):\n",
    "    for i in range(0,11):\n",
    "    #Selected rects\n",
    "        rect = page.rects[i]\n",
    "        if rect['height'] < 1 or rect['width'] < 1: continue #1 Ignore small rectangles\n",
    "\n",
    "        to_be_ignored = False\n",
    "\n",
    "        for j in range(0,len(page.rects)):\n",
    "            print(f\"(i,j): ({i},{j})\")\n",
    "        # for j in range(0,10):\n",
    "            other_rect = page.rects[j]\n",
    "            if i == j:\n",
    "                break\n",
    "            elif is_nested(rect, other_rect):\n",
    "                to_be_ignored = True\n",
    "                break\n",
    "            # elif j == len(page.rects)-1:\n",
    "            #     selected_rects.append(rect)\n",
    "            else:\n",
    "                continue\n",
    "        if not to_be_ignored: \n",
    "            print(\"added to selected rects\")\n",
    "            selected_rects.append(rect)\n",
    "        \n",
    "        print(f\"Added rect with index {i}\")\n",
    "        # print(f\"Rect index: {i}\")\n",
    "        # print(f\"Rect height: {rect['height']}\")\n",
    "        # print(f\"Rect width: {rect['width']}\")\n",
    "    im = im.draw_rects(selected_rects)\n",
    "    im.show()"
   ]
  },
  {
   "cell_type": "code",
   "execution_count": null,
   "id": "54ef9b03",
   "metadata": {},
   "outputs": [
    {
     "data": {
      "text/plain": [
       "True"
      ]
     },
     "execution_count": 47,
     "metadata": {},
     "output_type": "execute_result"
    }
   ],
   "source": [
    "#x0,x1,y0,y1\n",
    "(x0,x1,y0,y1) = (3,4,1,8) #Rect\n",
    "(x0_o,x1_o,y0_o,y1_o) = (2,5,0,9) #Other rect - does it contain rect?\n",
    "\n",
    "#LOGIC TO BE IMPLEMENTED\n",
    "(not (x0_o == x0 and x1_o == x1 and y0_o == y0 and y1_o == y1)) and (x0_o <= x0 and x1_o >= x1 and y0_o <= y0 and y1_o >= y1)"
   ]
  },
  {
   "cell_type": "code",
   "execution_count": 62,
   "id": "083add2c",
   "metadata": {},
   "outputs": [
    {
     "name": "stdout",
     "output_type": "stream",
     "text": [
      "[<Page:1>]\n"
     ]
    }
   ],
   "source": [
    "#Drawing rects\n",
    "selected_rects = []\n",
    "\n",
    "with pdfplumber.open(\"../mvfodevarer_side12.pdf\") as pdf:\n",
    "    print(pdf.pages)\n",
    "    page = pdf.pages[0]\n",
    "    #TODO: \n",
    "    # 1. Ignore rects with height = 0? (or under certain threshold)\n",
    "    # 2. Ignore nested rects\n",
    "    im = page.to_image(resolution = 400)\n",
    "\n",
    "    # for i in range(0,len(page.rects)):\n",
    "    for i in range(0,20):\n",
    "    #Selected rects\n",
    "        rect = page.rects[i]\n",
    "        # if rect['height'] < 1 or rect['width'] < 1: continue #1 Ignore small rectangles\n",
    "        selected_rects.append(rect)\n",
    "        # print(f\"Rect index: {i}\")\n",
    "        # print(f\"Rect height: {rect['height']}\")\n",
    "        # print(f\"Rect width: {rect['width']}\")\n",
    "    im = im.draw_rects(selected_rects)\n",
    "    im.show()"
   ]
  },
  {
   "cell_type": "markdown",
   "id": "17a21c03",
   "metadata": {},
   "source": [
    "2 Remove nested rects"
   ]
  },
  {
   "cell_type": "code",
   "execution_count": 52,
   "id": "a1868496",
   "metadata": {},
   "outputs": [
    {
     "name": "stdout",
     "output_type": "stream",
     "text": [
      "[<Page:1>]\n",
      "{'x0': 51.83952, 'y0': 727.6416, 'x1': 545.27952, 'y1': 755.96112, 'width': 493.44000000000005, 'height': 28.31952000000001, 'pts': [(51.83952, 114.35839999999996), (545.27952, 114.35839999999996), (545.27952, 86.03887999999995), (51.83952, 86.03887999999995)], 'linewidth': 0, 'stroke': False, 'fill': True, 'evenodd': False, 'stroking_color': 0, 'non_stroking_color': (0.804688, 0.867188, 0.675781), 'mcid': None, 'tag': None, 'object_type': 'rect', 'page_number': 1, 'path': [('m', (51.83952, 114.35839999999996)), ('l', (545.27952, 114.35839999999996)), ('l', (545.27952, 86.03887999999995)), ('l', (51.83952, 86.03887999999995)), ('h',)], 'dash': None, 'top': 86.03887999999995, 'bottom': 114.35839999999996, 'doctop': 86.03887999999995}\n",
      "{'x0': 56.63952, 'y0': 732.5616, 'x1': 540.35952, 'y1': 750.92112, 'width': 483.71999999999997, 'height': 18.359519999999975, 'pts': [(56.63952, 109.4384), (540.35952, 109.4384), (540.35952, 91.07888000000003), (56.63952, 91.07888000000003)], 'linewidth': 0, 'stroke': False, 'fill': True, 'evenodd': False, 'stroking_color': 0, 'non_stroking_color': (0.804688, 0.867188, 0.675781), 'mcid': None, 'tag': None, 'object_type': 'rect', 'page_number': 1, 'path': [('m', (56.63952, 109.4384)), ('l', (540.35952, 109.4384)), ('l', (540.35952, 91.07888000000003)), ('l', (56.63952, 91.07888000000003)), ('h',)], 'dash': None, 'top': 91.07888000000003, 'bottom': 109.4384, 'doctop': 91.07888000000003}\n",
      "{'x0': 50.75952, 'y0': 755.9616, 'x1': 51.719050800000005, 'y1': 756.9211308, 'width': 0.9595308000000031, 'height': 0.9595308000000387, 'pts': [(50.75952, 86.03840000000002), (51.719050800000005, 86.03840000000002), (51.719050800000005, 85.07886919999999), (50.75952, 85.07886919999999)], 'linewidth': 0, 'stroke': False, 'fill': True, 'evenodd': False, 'stroking_color': 0, 'non_stroking_color': (1.0, 1.0, 1.0), 'mcid': None, 'tag': None, 'object_type': 'rect', 'page_number': 1, 'path': [('m', (50.75952, 86.03840000000002)), ('l', (51.719050800000005, 86.03840000000002)), ('l', (51.719050800000005, 85.07886919999999)), ('l', (50.75952, 85.07886919999999)), ('h',)], 'dash': None, 'top': 85.07886919999999, 'bottom': 86.03840000000002, 'doctop': 85.07886919999999}\n",
      "{'x0': 50.75952, 'y0': 755.9616, 'x1': 51.719050800000005, 'y1': 756.9211308, 'width': 0.9595308000000031, 'height': 0.9595308000000387, 'pts': [(50.75952, 86.03840000000002), (51.719050800000005, 86.03840000000002), (51.719050800000005, 85.07886919999999), (50.75952, 85.07886919999999)], 'linewidth': 0, 'stroke': False, 'fill': True, 'evenodd': False, 'stroking_color': 0, 'non_stroking_color': (1.0, 1.0, 1.0), 'mcid': None, 'tag': None, 'object_type': 'rect', 'page_number': 1, 'path': [('m', (50.75952, 86.03840000000002)), ('l', (51.719050800000005, 86.03840000000002)), ('l', (51.719050800000005, 85.07886919999999)), ('l', (50.75952, 85.07886919999999)), ('h',)], 'dash': None, 'top': 85.07886919999999, 'bottom': 86.03840000000002, 'doctop': 85.07886919999999}\n",
      "{'x0': 51.71952, 'y0': 755.9616, 'x1': 545.15952, 'y1': 756.9211308, 'width': 493.44000000000005, 'height': 0.9595308000000387, 'pts': [(51.71952, 86.03840000000002), (545.15952, 86.03840000000002), (545.15952, 85.07886919999999), (51.71952, 85.07886919999999)], 'linewidth': 0, 'stroke': False, 'fill': True, 'evenodd': False, 'stroking_color': 0, 'non_stroking_color': (1.0, 1.0, 1.0), 'mcid': None, 'tag': None, 'object_type': 'rect', 'page_number': 1, 'path': [('m', (51.71952, 86.03840000000002)), ('l', (545.15952, 86.03840000000002)), ('l', (545.15952, 85.07886919999999)), ('l', (51.71952, 85.07886919999999)), ('h',)], 'dash': None, 'top': 85.07886919999999, 'bottom': 86.03840000000002, 'doctop': 85.07886919999999}\n",
      "{'x0': 545.16, 'y0': 755.9616, 'x1': 546.1195308, 'y1': 756.9211308, 'width': 0.9595308000000387, 'height': 0.9595308000000387, 'pts': [(545.16, 86.03840000000002), (546.1195308, 86.03840000000002), (546.1195308, 85.07886919999999), (545.16, 85.07886919999999)], 'linewidth': 0, 'stroke': False, 'fill': True, 'evenodd': False, 'stroking_color': 0, 'non_stroking_color': (1.0, 1.0, 1.0), 'mcid': None, 'tag': None, 'object_type': 'rect', 'page_number': 1, 'path': [('m', (545.16, 86.03840000000002)), ('l', (546.1195308, 86.03840000000002)), ('l', (546.1195308, 85.07886919999999)), ('l', (545.16, 85.07886919999999)), ('h',)], 'dash': None, 'top': 85.07886919999999, 'bottom': 86.03840000000002, 'doctop': 85.07886919999999}\n",
      "{'x0': 545.16, 'y0': 755.9616, 'x1': 546.1195308, 'y1': 756.9211308, 'width': 0.9595308000000387, 'height': 0.9595308000000387, 'pts': [(545.16, 86.03840000000002), (546.1195308, 86.03840000000002), (546.1195308, 85.07886919999999), (545.16, 85.07886919999999)], 'linewidth': 0, 'stroke': False, 'fill': True, 'evenodd': False, 'stroking_color': 0, 'non_stroking_color': (1.0, 1.0, 1.0), 'mcid': None, 'tag': None, 'object_type': 'rect', 'page_number': 1, 'path': [('m', (545.16, 86.03840000000002)), ('l', (546.1195308, 86.03840000000002)), ('l', (546.1195308, 85.07886919999999)), ('l', (545.16, 85.07886919999999)), ('h',)], 'dash': None, 'top': 85.07886919999999, 'bottom': 86.03840000000002, 'doctop': 85.07886919999999}\n",
      "{'x0': 50.75952, 'y0': 727.6416, 'x1': 51.719050800000005, 'y1': 755.96112, 'width': 0.9595308000000031, 'height': 28.31952000000001, 'pts': [(50.75952, 114.35839999999996), (51.719050800000005, 114.35839999999996), (51.719050800000005, 86.03887999999995), (50.75952, 86.03887999999995)], 'linewidth': 0, 'stroke': False, 'fill': True, 'evenodd': False, 'stroking_color': 0, 'non_stroking_color': (1.0, 1.0, 1.0), 'mcid': None, 'tag': None, 'object_type': 'rect', 'page_number': 1, 'path': [('m', (50.75952, 114.35839999999996)), ('l', (51.719050800000005, 114.35839999999996)), ('l', (51.719050800000005, 86.03887999999995)), ('l', (50.75952, 86.03887999999995)), ('h',)], 'dash': None, 'top': 86.03887999999995, 'bottom': 114.35839999999996, 'doctop': 86.03887999999995}\n",
      "{'x0': 545.16, 'y0': 727.6416, 'x1': 546.1195308, 'y1': 755.96112, 'width': 0.9595308000000387, 'height': 28.31952000000001, 'pts': [(545.16, 114.35839999999996), (546.1195308, 114.35839999999996), (546.1195308, 86.03887999999995), (545.16, 86.03887999999995)], 'linewidth': 0, 'stroke': False, 'fill': True, 'evenodd': False, 'stroking_color': 0, 'non_stroking_color': (1.0, 1.0, 1.0), 'mcid': None, 'tag': None, 'object_type': 'rect', 'page_number': 1, 'path': [('m', (545.16, 114.35839999999996)), ('l', (546.1195308, 114.35839999999996)), ('l', (546.1195308, 86.03887999999995)), ('l', (545.16, 86.03887999999995)), ('h',)], 'dash': None, 'top': 86.03887999999995, 'bottom': 114.35839999999996, 'doctop': 86.03887999999995}\n",
      "{'x0': 51.83952, 'y0': 671.6016, 'x1': 230.75951999999998, 'y1': 726.80112, 'width': 178.92, 'height': 55.19952000000001, 'pts': [(51.83952, 170.39840000000004), (230.75951999999998, 170.39840000000004), (230.75951999999998, 115.19888000000003), (51.83952, 115.19888000000003)], 'linewidth': 0, 'stroke': False, 'fill': True, 'evenodd': False, 'stroking_color': 0, 'non_stroking_color': (0.804688, 0.867188, 0.675781), 'mcid': None, 'tag': None, 'object_type': 'rect', 'page_number': 1, 'path': [('m', (51.83952, 170.39840000000004)), ('l', (230.75951999999998, 170.39840000000004)), ('l', (230.75951999999998, 115.19888000000003)), ('l', (51.83952, 115.19888000000003)), ('h',)], 'dash': None, 'top': 115.19888000000003, 'bottom': 170.39840000000004, 'doctop': 115.19888000000003}\n",
      "{'x0': 56.63952, 'y0': 692.3616, 'x1': 225.83952, 'y1': 706.16112, 'width': 169.2, 'height': 13.79952000000003, 'pts': [(56.63952, 149.63840000000005), (225.83952, 149.63840000000005), (225.83952, 135.83888000000002), (56.63952, 135.83888000000002)], 'linewidth': 0, 'stroke': False, 'fill': True, 'evenodd': False, 'stroking_color': 0, 'non_stroking_color': (0.804688, 0.867188, 0.675781), 'mcid': None, 'tag': None, 'object_type': 'rect', 'page_number': 1, 'path': [('m', (56.63952, 149.63840000000005)), ('l', (225.83952, 149.63840000000005)), ('l', (225.83952, 135.83888000000002)), ('l', (56.63952, 135.83888000000002)), ('h',)], 'dash': None, 'top': 135.83888000000002, 'bottom': 149.63840000000005, 'doctop': 135.83888000000002}\n",
      "{'x0': 231.6, 'y0': 671.6016, 'x1': 304.43952, 'y1': 726.80112, 'width': 72.83952000000002, 'height': 55.19952000000001, 'pts': [(231.6, 170.39840000000004), (304.43952, 170.39840000000004), (304.43952, 115.19888000000003), (231.6, 115.19888000000003)], 'linewidth': 0, 'stroke': False, 'fill': True, 'evenodd': False, 'stroking_color': 0, 'non_stroking_color': (0.902344, 0.933594, 0.835938), 'mcid': None, 'tag': None, 'object_type': 'rect', 'page_number': 1, 'path': [('m', (231.6, 170.39840000000004)), ('l', (304.43952, 170.39840000000004)), ('l', (304.43952, 115.19888000000003)), ('l', (231.6, 115.19888000000003)), ('h',)], 'dash': None, 'top': 115.19888000000003, 'bottom': 170.39840000000004, 'doctop': 115.19888000000003}\n",
      "{'x0': 236.76, 'y0': 713.0016, 'x1': 299.39952, 'y1': 726.8011200000001, 'width': 62.639520000000005, 'height': 13.79952000000003, 'pts': [(236.76, 128.99839999999995), (299.39952, 128.99839999999995), (299.39952, 115.19887999999992), (236.76, 115.19887999999992)], 'linewidth': 0, 'stroke': False, 'fill': True, 'evenodd': False, 'stroking_color': 0, 'non_stroking_color': (0.902344, 0.933594, 0.835938), 'mcid': None, 'tag': None, 'object_type': 'rect', 'page_number': 1, 'path': [('m', (236.76, 128.99839999999995)), ('l', (299.39952, 128.99839999999995)), ('l', (299.39952, 115.19887999999992)), ('l', (236.76, 115.19887999999992)), ('h',)], 'dash': None, 'top': 115.19887999999992, 'bottom': 128.99839999999995, 'doctop': 115.19887999999992}\n",
      "{'x0': 236.76, 'y0': 699.2016, 'x1': 299.39952, 'y1': 713.00112, 'width': 62.639520000000005, 'height': 13.79952000000003, 'pts': [(236.76, 142.79840000000002), (299.39952, 142.79840000000002), (299.39952, 128.99887999999999), (236.76, 128.99887999999999)], 'linewidth': 0, 'stroke': False, 'fill': True, 'evenodd': False, 'stroking_color': 0, 'non_stroking_color': (0.902344, 0.933594, 0.835938), 'mcid': None, 'tag': None, 'object_type': 'rect', 'page_number': 1, 'path': [('m', (236.76, 142.79840000000002)), ('l', (299.39952, 142.79840000000002)), ('l', (299.39952, 128.99887999999999)), ('l', (236.76, 128.99887999999999)), ('h',)], 'dash': None, 'top': 128.99887999999999, 'bottom': 142.79840000000002, 'doctop': 128.99887999999999}\n",
      "{'x0': 236.76, 'y0': 685.4016, 'x1': 299.39952, 'y1': 699.2011200000001, 'width': 62.639520000000005, 'height': 13.79952000000003, 'pts': [(236.76, 156.59839999999997), (299.39952, 156.59839999999997), (299.39952, 142.79887999999994), (236.76, 142.79887999999994)], 'linewidth': 0, 'stroke': False, 'fill': True, 'evenodd': False, 'stroking_color': 0, 'non_stroking_color': (0.902344, 0.933594, 0.835938), 'mcid': None, 'tag': None, 'object_type': 'rect', 'page_number': 1, 'path': [('m', (236.76, 156.59839999999997)), ('l', (299.39952, 156.59839999999997)), ('l', (299.39952, 142.79887999999994)), ('l', (236.76, 142.79887999999994)), ('h',)], 'dash': None, 'top': 142.79887999999994, 'bottom': 156.59839999999997, 'doctop': 142.79887999999994}\n",
      "{'x0': 236.76, 'y0': 671.6016, 'x1': 299.39952, 'y1': 685.40112, 'width': 62.639520000000005, 'height': 13.79952000000003, 'pts': [(236.76, 170.39840000000004), (299.39952, 170.39840000000004), (299.39952, 156.59888), (236.76, 156.59888)], 'linewidth': 0, 'stroke': False, 'fill': True, 'evenodd': False, 'stroking_color': 0, 'non_stroking_color': (0.902344, 0.933594, 0.835938), 'mcid': None, 'tag': None, 'object_type': 'rect', 'page_number': 1, 'path': [('m', (236.76, 170.39840000000004)), ('l', (299.39952, 170.39840000000004)), ('l', (299.39952, 156.59888)), ('l', (236.76, 156.59888)), ('h',)], 'dash': None, 'top': 156.59888, 'bottom': 170.39840000000004, 'doctop': 156.59888}\n",
      "{'x0': 305.28, 'y0': 671.6016, 'x1': 389.39951999999994, 'y1': 726.80112, 'width': 84.11951999999997, 'height': 55.19952000000001, 'pts': [(305.28, 170.39840000000004), (389.39951999999994, 170.39840000000004), (389.39951999999994, 115.19888000000003), (305.28, 115.19888000000003)], 'linewidth': 0, 'stroke': False, 'fill': True, 'evenodd': False, 'stroking_color': 0, 'non_stroking_color': (0.804688, 0.867188, 0.675781), 'mcid': None, 'tag': None, 'object_type': 'rect', 'page_number': 1, 'path': [('m', (305.28, 170.39840000000004)), ('l', (389.39951999999994, 170.39840000000004)), ('l', (389.39951999999994, 115.19888000000003)), ('l', (305.28, 115.19888000000003)), ('h',)], 'dash': None, 'top': 115.19888000000003, 'bottom': 170.39840000000004, 'doctop': 115.19888000000003}\n",
      "{'x0': 310.2, 'y0': 713.0016, 'x1': 384.47952, 'y1': 726.8011200000001, 'width': 74.27951999999999, 'height': 13.79952000000003, 'pts': [(310.2, 128.99839999999995), (384.47952, 128.99839999999995), (384.47952, 115.19887999999992), (310.2, 115.19887999999992)], 'linewidth': 0, 'stroke': False, 'fill': True, 'evenodd': False, 'stroking_color': 0, 'non_stroking_color': (0.804688, 0.867188, 0.675781), 'mcid': None, 'tag': None, 'object_type': 'rect', 'page_number': 1, 'path': [('m', (310.2, 128.99839999999995)), ('l', (384.47952, 128.99839999999995)), ('l', (384.47952, 115.19887999999992)), ('l', (310.2, 115.19887999999992)), ('h',)], 'dash': None, 'top': 115.19887999999992, 'bottom': 128.99839999999995, 'doctop': 115.19887999999992}\n",
      "{'x0': 310.2, 'y0': 699.2016, 'x1': 384.47952, 'y1': 713.00112, 'width': 74.27951999999999, 'height': 13.79952000000003, 'pts': [(310.2, 142.79840000000002), (384.47952, 142.79840000000002), (384.47952, 128.99887999999999), (310.2, 128.99887999999999)], 'linewidth': 0, 'stroke': False, 'fill': True, 'evenodd': False, 'stroking_color': 0, 'non_stroking_color': (0.804688, 0.867188, 0.675781), 'mcid': None, 'tag': None, 'object_type': 'rect', 'page_number': 1, 'path': [('m', (310.2, 142.79840000000002)), ('l', (384.47952, 142.79840000000002)), ('l', (384.47952, 128.99887999999999)), ('l', (310.2, 128.99887999999999)), ('h',)], 'dash': None, 'top': 128.99887999999999, 'bottom': 142.79840000000002, 'doctop': 128.99887999999999}\n",
      "{'x0': 390.24, 'y0': 671.6016, 'x1': 474.59952, 'y1': 726.80112, 'width': 84.35951999999997, 'height': 55.19952000000001, 'pts': [(390.24, 170.39840000000004), (474.59952, 170.39840000000004), (474.59952, 115.19888000000003), (390.24, 115.19888000000003)], 'linewidth': 0, 'stroke': False, 'fill': True, 'evenodd': False, 'stroking_color': 0, 'non_stroking_color': (0.902344, 0.933594, 0.835938), 'mcid': None, 'tag': None, 'object_type': 'rect', 'page_number': 1, 'path': [('m', (390.24, 170.39840000000004)), ('l', (474.59952, 170.39840000000004)), ('l', (474.59952, 115.19888000000003)), ('l', (390.24, 115.19888000000003)), ('h',)], 'dash': None, 'top': 115.19888000000003, 'bottom': 170.39840000000004, 'doctop': 115.19888000000003}\n"
     ]
    }
   ],
   "source": [
    "selected_rects = []\n",
    "\n",
    "with pdfplumber.open(\"../mvfodevarer_side12.pdf\") as pdf:\n",
    "    print(pdf.pages)\n",
    "    page = pdf.pages[0]\n",
    "    #TODO: \n",
    "    # 1. Ignore rects with height = 0? (or under certain threshold)\n",
    "    # 2. Ignore nested rects\n",
    "    im = page.to_image(resolution = 400)\n",
    "    for i in range(0,20):\n",
    "        #Selected rects\n",
    "            rect = page.rects[i]\n",
    "            selected_rects.append(rect)\n",
    "            # print(f\"Rect index: {i}\")\n",
    "            # print(f\"Rect height: {rect['height']}\")\n",
    "            # print(f\"Rect width: {rect['width']}\")\n",
    "            print(rect)\n",
    "    im = im.draw_rects(selected_rects)\n",
    "    im.show()"
   ]
  },
  {
   "cell_type": "code",
   "execution_count": 5,
   "id": "351cd2df",
   "metadata": {},
   "outputs": [
    {
     "ename": "AttributeError",
     "evalue": "'PDF' object has no attribute 'pdf'",
     "output_type": "error",
     "traceback": [
      "\u001b[31m---------------------------------------------------------------------------\u001b[39m",
      "\u001b[31mAttributeError\u001b[39m                            Traceback (most recent call last)",
      "\u001b[36mCell\u001b[39m\u001b[36m \u001b[39m\u001b[32mIn[5]\u001b[39m\u001b[32m, line 5\u001b[39m\n\u001b[32m      2\u001b[39m \u001b[38;5;66;03m# my_pdf = my_string.pdf\u001b[39;00m\n\u001b[32m      3\u001b[39m my_pdf = pdfplumber.open(\u001b[33m\"\u001b[39m\u001b[33m../mvfodevarer.pdf\u001b[39m\u001b[33m\"\u001b[39m) \u001b[38;5;66;03m#pdfplumber.pdf.PDF\u001b[39;00m\n\u001b[32m----> \u001b[39m\u001b[32m5\u001b[39m \u001b[43mmy_pdf\u001b[49m\u001b[43m.\u001b[49m\u001b[43mpdf\u001b[49m\n",
      "\u001b[31mAttributeError\u001b[39m: 'PDF' object has no attribute 'pdf'"
     ]
    }
   ],
   "source": [
    "my_string = \"mvfodevarer\"\n",
    "# my_pdf = my_string.pdf\n",
    "my_pdf = pdfplumber.open(\"../mvfodevarer.pdf\") #pdfplumber.pdf.PDF\n",
    "\n",
    "my_pdf.pdf"
   ]
  }
 ],
 "metadata": {
  "kernelspec": {
   "display_name": ".venv",
   "language": "python",
   "name": "python3"
  },
  "language_info": {
   "codemirror_mode": {
    "name": "ipython",
    "version": 3
   },
   "file_extension": ".py",
   "mimetype": "text/x-python",
   "name": "python",
   "nbconvert_exporter": "python",
   "pygments_lexer": "ipython3",
   "version": "3.13.0"
  }
 },
 "nbformat": 4,
 "nbformat_minor": 5
}
